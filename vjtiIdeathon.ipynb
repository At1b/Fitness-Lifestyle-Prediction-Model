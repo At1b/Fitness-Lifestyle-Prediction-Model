{
 "cells": [
  {
   "cell_type": "markdown",
   "metadata": {},
   "source": [
    "## Fitness & Lifestyle Prediction Model"
   ]
  },
  {
   "cell_type": "markdown",
   "metadata": {},
   "source": [
    "In today’s world, maintaining a healthy lifestyle is crucial for overall\n",
    "well-being. Your task is to build a machine learning model that predicts\n",
    "whether an individual is healthy or not based on the different physical\n",
    "and lifestyle attributes.\n",
    "\n",
    "You are provided with a dataset containing 6,000 entries of individuals,\n",
    "each with attributes like physical fitness level, diet preferences, activity\n",
    "level, sleep habits, mindfulness, and career. The goal is to train a model\n",
    "that accurately predicts the is_healthy label (1 for healthy, 0\n",
    "otherwise).\n",
    "\n",
    "Can your model differentiate between healthy and unhealthy person\n",
    "correctly? Let’s find out!\n",
    "You can use ML algorithms like SVM, Random Forest, etc.\n"
   ]
  },
  {
   "cell_type": "markdown",
   "metadata": {},
   "source": [
    "## Load up .csv"
   ]
  },
  {
   "cell_type": "code",
   "execution_count": 1,
   "metadata": {},
   "outputs": [
    {
     "name": "stdout",
     "output_type": "stream",
     "text": [
      "<class 'pandas.core.frame.DataFrame'>\n",
      "RangeIndex: 6000 entries, 0 to 5999\n",
      "Data columns (total 10 columns):\n",
      " #   Column              Non-Null Count  Dtype  \n",
      "---  ------              --------------  -----  \n",
      " 0   phy_fitness         5997 non-null   float64\n",
      " 1   diet_pref           5996 non-null   object \n",
      " 2   act_level           5994 non-null   object \n",
      " 3   sleep_hrs           6000 non-null   int64  \n",
      " 4   mindfulness         6000 non-null   int64  \n",
      " 5   career              5996 non-null   object \n",
      " 6   gender              5999 non-null   float64\n",
      " 7   daily_avg_steps     5989 non-null   float64\n",
      " 8   daily_avg_calories  5986 non-null   float64\n",
      " 9   is_healthy          6000 non-null   int64  \n",
      "dtypes: float64(4), int64(3), object(3)\n",
      "memory usage: 468.9+ KB\n"
     ]
    },
    {
     "data": {
      "text/html": [
       "<div>\n",
       "<style scoped>\n",
       "    .dataframe tbody tr th:only-of-type {\n",
       "        vertical-align: middle;\n",
       "    }\n",
       "\n",
       "    .dataframe tbody tr th {\n",
       "        vertical-align: top;\n",
       "    }\n",
       "\n",
       "    .dataframe thead th {\n",
       "        text-align: right;\n",
       "    }\n",
       "</style>\n",
       "<table border=\"1\" class=\"dataframe\">\n",
       "  <thead>\n",
       "    <tr style=\"text-align: right;\">\n",
       "      <th></th>\n",
       "      <th>phy_fitness</th>\n",
       "      <th>diet_pref</th>\n",
       "      <th>act_level</th>\n",
       "      <th>sleep_hrs</th>\n",
       "      <th>mindfulness</th>\n",
       "      <th>career</th>\n",
       "      <th>gender</th>\n",
       "      <th>daily_avg_steps</th>\n",
       "      <th>daily_avg_calories</th>\n",
       "      <th>is_healthy</th>\n",
       "    </tr>\n",
       "  </thead>\n",
       "  <tbody>\n",
       "    <tr>\n",
       "      <th>0</th>\n",
       "      <td>3.0</td>\n",
       "      <td>Vegan</td>\n",
       "      <td>Sedentary</td>\n",
       "      <td>7</td>\n",
       "      <td>10</td>\n",
       "      <td>Artist</td>\n",
       "      <td>1.0</td>\n",
       "      <td>2020.0</td>\n",
       "      <td>1831.0</td>\n",
       "      <td>0</td>\n",
       "    </tr>\n",
       "    <tr>\n",
       "      <th>1</th>\n",
       "      <td>4.0</td>\n",
       "      <td>Vegan</td>\n",
       "      <td>Lightly Active</td>\n",
       "      <td>7</td>\n",
       "      <td>1</td>\n",
       "      <td>Teacher</td>\n",
       "      <td>0.0</td>\n",
       "      <td>5154.0</td>\n",
       "      <td>2190.0</td>\n",
       "      <td>0</td>\n",
       "    </tr>\n",
       "    <tr>\n",
       "      <th>2</th>\n",
       "      <td>8.0</td>\n",
       "      <td>Vegetarian</td>\n",
       "      <td>Active</td>\n",
       "      <td>8</td>\n",
       "      <td>10</td>\n",
       "      <td>Freelancer</td>\n",
       "      <td>1.0</td>\n",
       "      <td>12363.0</td>\n",
       "      <td>2297.0</td>\n",
       "      <td>1</td>\n",
       "    </tr>\n",
       "    <tr>\n",
       "      <th>3</th>\n",
       "      <td>2.0</td>\n",
       "      <td>Pescatarian</td>\n",
       "      <td>Sedentary</td>\n",
       "      <td>8</td>\n",
       "      <td>7</td>\n",
       "      <td>Doctor</td>\n",
       "      <td>0.0</td>\n",
       "      <td>1664.0</td>\n",
       "      <td>1943.0</td>\n",
       "      <td>0</td>\n",
       "    </tr>\n",
       "    <tr>\n",
       "      <th>4</th>\n",
       "      <td>9.0</td>\n",
       "      <td>Pescatarian</td>\n",
       "      <td>Highly Active</td>\n",
       "      <td>5</td>\n",
       "      <td>7</td>\n",
       "      <td>Business</td>\n",
       "      <td>0.0</td>\n",
       "      <td>17680.0</td>\n",
       "      <td>3527.0</td>\n",
       "      <td>1</td>\n",
       "    </tr>\n",
       "  </tbody>\n",
       "</table>\n",
       "</div>"
      ],
      "text/plain": [
       "   phy_fitness    diet_pref       act_level  sleep_hrs  mindfulness  \\\n",
       "0          3.0        Vegan       Sedentary          7           10   \n",
       "1          4.0        Vegan  Lightly Active          7            1   \n",
       "2          8.0   Vegetarian          Active          8           10   \n",
       "3          2.0  Pescatarian       Sedentary          8            7   \n",
       "4          9.0  Pescatarian   Highly Active          5            7   \n",
       "\n",
       "       career  gender  daily_avg_steps  daily_avg_calories  is_healthy  \n",
       "0      Artist     1.0           2020.0              1831.0           0  \n",
       "1     Teacher     0.0           5154.0              2190.0           0  \n",
       "2  Freelancer     1.0          12363.0              2297.0           1  \n",
       "3      Doctor     0.0           1664.0              1943.0           0  \n",
       "4    Business     0.0          17680.0              3527.0           1  "
      ]
     },
     "execution_count": 1,
     "metadata": {},
     "output_type": "execute_result"
    }
   ],
   "source": [
    "import pandas as pd\n",
    "\n",
    "# Load the dataset\n",
    "file_path = \"./innovize_final_ml.csv\"\n",
    "df = pd.read_csv(file_path)\n",
    "\n",
    "df.info()\n",
    "df.head()\n"
   ]
  },
  {
   "cell_type": "markdown",
   "metadata": {},
   "source": [
    "Some of the data is missing in the data set, need to add a mean or median value to ensure integrity, not removing data to keep the standard of the data high"
   ]
  },
  {
   "cell_type": "code",
   "execution_count": 2,
   "metadata": {},
   "outputs": [
    {
     "name": "stdout",
     "output_type": "stream",
     "text": [
      "<class 'pandas.core.frame.DataFrame'>\n",
      "RangeIndex: 6000 entries, 0 to 5999\n",
      "Data columns (total 10 columns):\n",
      " #   Column              Non-Null Count  Dtype  \n",
      "---  ------              --------------  -----  \n",
      " 0   phy_fitness         6000 non-null   float64\n",
      " 1   diet_pref           6000 non-null   object \n",
      " 2   act_level           6000 non-null   object \n",
      " 3   sleep_hrs           6000 non-null   int64  \n",
      " 4   mindfulness         6000 non-null   int64  \n",
      " 5   career              6000 non-null   object \n",
      " 6   gender              6000 non-null   float64\n",
      " 7   daily_avg_steps     6000 non-null   float64\n",
      " 8   daily_avg_calories  6000 non-null   float64\n",
      " 9   is_healthy          6000 non-null   int64  \n",
      "dtypes: float64(4), int64(3), object(3)\n",
      "memory usage: 468.9+ KB\n"
     ]
    }
   ],
   "source": [
    "df.fillna({\n",
    "    \"phy_fitness\": df[\"phy_fitness\"].median(),\n",
    "    \"diet_pref\": df[\"diet_pref\"].mode()[0],\n",
    "    \"act_level\": df[\"act_level\"].mode()[0],\n",
    "    \"career\": df[\"career\"].mode()[0],\n",
    "    \"gender\": df[\"gender\"].mode()[0],\n",
    "    \"daily_avg_steps\": df[\"daily_avg_steps\"].median(),\n",
    "    \"daily_avg_calories\": df[\"daily_avg_calories\"].median()\n",
    "}, inplace=True)\n",
    "\n",
    "df.isnull().sum()\n",
    "df.info()\n"
   ]
  },
  {
   "cell_type": "markdown",
   "metadata": {},
   "source": [
    "Data is now available to train and edit, all columns have 6000 data members each :)"
   ]
  },
  {
   "cell_type": "markdown",
   "metadata": {},
   "source": [
    "## Encoding the Diet Preference, Activity Level and Career to meaningful numerical values"
   ]
  },
  {
   "cell_type": "markdown",
   "metadata": {},
   "source": [
    "Easy solution is to use LabelEncoder, idk if itll work for final model or nah, hehe"
   ]
  },
  {
   "cell_type": "code",
   "execution_count": 3,
   "metadata": {},
   "outputs": [
    {
     "data": {
      "text/html": [
       "<div>\n",
       "<style scoped>\n",
       "    .dataframe tbody tr th:only-of-type {\n",
       "        vertical-align: middle;\n",
       "    }\n",
       "\n",
       "    .dataframe tbody tr th {\n",
       "        vertical-align: top;\n",
       "    }\n",
       "\n",
       "    .dataframe thead th {\n",
       "        text-align: right;\n",
       "    }\n",
       "</style>\n",
       "<table border=\"1\" class=\"dataframe\">\n",
       "  <thead>\n",
       "    <tr style=\"text-align: right;\">\n",
       "      <th></th>\n",
       "      <th>phy_fitness</th>\n",
       "      <th>diet_pref</th>\n",
       "      <th>act_level</th>\n",
       "      <th>sleep_hrs</th>\n",
       "      <th>mindfulness</th>\n",
       "      <th>career</th>\n",
       "      <th>gender</th>\n",
       "      <th>daily_avg_steps</th>\n",
       "      <th>daily_avg_calories</th>\n",
       "      <th>is_healthy</th>\n",
       "    </tr>\n",
       "  </thead>\n",
       "  <tbody>\n",
       "    <tr>\n",
       "      <th>0</th>\n",
       "      <td>3.0</td>\n",
       "      <td>3</td>\n",
       "      <td>3</td>\n",
       "      <td>7</td>\n",
       "      <td>10</td>\n",
       "      <td>0</td>\n",
       "      <td>1.0</td>\n",
       "      <td>2020.0</td>\n",
       "      <td>1831.0</td>\n",
       "      <td>0</td>\n",
       "    </tr>\n",
       "    <tr>\n",
       "      <th>1</th>\n",
       "      <td>4.0</td>\n",
       "      <td>3</td>\n",
       "      <td>2</td>\n",
       "      <td>7</td>\n",
       "      <td>1</td>\n",
       "      <td>9</td>\n",
       "      <td>0.0</td>\n",
       "      <td>5154.0</td>\n",
       "      <td>2190.0</td>\n",
       "      <td>0</td>\n",
       "    </tr>\n",
       "    <tr>\n",
       "      <th>2</th>\n",
       "      <td>8.0</td>\n",
       "      <td>4</td>\n",
       "      <td>0</td>\n",
       "      <td>8</td>\n",
       "      <td>10</td>\n",
       "      <td>4</td>\n",
       "      <td>1.0</td>\n",
       "      <td>12363.0</td>\n",
       "      <td>2297.0</td>\n",
       "      <td>1</td>\n",
       "    </tr>\n",
       "    <tr>\n",
       "      <th>3</th>\n",
       "      <td>2.0</td>\n",
       "      <td>2</td>\n",
       "      <td>3</td>\n",
       "      <td>8</td>\n",
       "      <td>7</td>\n",
       "      <td>2</td>\n",
       "      <td>0.0</td>\n",
       "      <td>1664.0</td>\n",
       "      <td>1943.0</td>\n",
       "      <td>0</td>\n",
       "    </tr>\n",
       "    <tr>\n",
       "      <th>4</th>\n",
       "      <td>9.0</td>\n",
       "      <td>2</td>\n",
       "      <td>1</td>\n",
       "      <td>5</td>\n",
       "      <td>7</td>\n",
       "      <td>1</td>\n",
       "      <td>0.0</td>\n",
       "      <td>17680.0</td>\n",
       "      <td>3527.0</td>\n",
       "      <td>1</td>\n",
       "    </tr>\n",
       "  </tbody>\n",
       "</table>\n",
       "</div>"
      ],
      "text/plain": [
       "   phy_fitness  diet_pref  act_level  sleep_hrs  mindfulness  career  gender  \\\n",
       "0          3.0          3          3          7           10       0     1.0   \n",
       "1          4.0          3          2          7            1       9     0.0   \n",
       "2          8.0          4          0          8           10       4     1.0   \n",
       "3          2.0          2          3          8            7       2     0.0   \n",
       "4          9.0          2          1          5            7       1     0.0   \n",
       "\n",
       "   daily_avg_steps  daily_avg_calories  is_healthy  \n",
       "0           2020.0              1831.0           0  \n",
       "1           5154.0              2190.0           0  \n",
       "2          12363.0              2297.0           1  \n",
       "3           1664.0              1943.0           0  \n",
       "4          17680.0              3527.0           1  "
      ]
     },
     "execution_count": 3,
     "metadata": {},
     "output_type": "execute_result"
    }
   ],
   "source": [
    "from sklearn.preprocessing import LabelEncoder\n",
    "\n",
    "# Encode categorical features\n",
    "label_encoders = {}\n",
    "categorical_cols = [\"diet_pref\", \"act_level\", \"career\"]\n",
    "\n",
    "for col in categorical_cols:\n",
    "    le = LabelEncoder()\n",
    "    df[col] = le.fit_transform(df[col])\n",
    "    label_encoders[col] = le \n",
    "\n",
    "# Verify encoding\n",
    "df.head()\n"
   ]
  },
  {
   "cell_type": "markdown",
   "metadata": {},
   "source": [
    "We can start training the model now?"
   ]
  },
  {
   "cell_type": "markdown",
   "metadata": {},
   "source": [
    "## Model training and testing(basic)"
   ]
  },
  {
   "cell_type": "code",
   "execution_count": 4,
   "metadata": {},
   "outputs": [
    {
     "data": {
      "text/plain": [
       "(0.9775, 0.9883333333333333)"
      ]
     },
     "execution_count": 4,
     "metadata": {},
     "output_type": "execute_result"
    }
   ],
   "source": [
    "from sklearn.model_selection import train_test_split\n",
    "from sklearn.ensemble import RandomForestClassifier\n",
    "from sklearn.svm import SVC\n",
    "from sklearn.metrics import accuracy_score\n",
    "\n",
    "# Defining features and target variable (Geeksforgeeks dekho)\n",
    "X = df.drop(columns=[\"is_healthy\"])\n",
    "y = df[\"is_healthy\"]\n",
    "\n",
    "# Split data\n",
    "X_train, X_test, y_train, y_test = train_test_split(X, y, test_size=0.2, random_state=42)\n",
    "\n",
    "# Train RF model\n",
    "rf_model = RandomForestClassifier(n_estimators=100, random_state=42)\n",
    "rf_model.fit(X_train, y_train)\n",
    "rf_preds = rf_model.predict(X_test)\n",
    "rf_accuracy = accuracy_score(y_test, rf_preds)\n",
    "\n",
    "# Train SVM model\n",
    "svm_model = SVC(kernel=\"linear\", random_state=42)\n",
    "svm_model.fit(X_train, y_train)\n",
    "svm_preds = svm_model.predict(X_test)\n",
    "svm_accuracy = accuracy_score(y_test, svm_preds)\n",
    "\n",
    "rf_accuracy, svm_accuracy\n"
   ]
  },
  {
   "cell_type": "markdown",
   "metadata": {},
   "source": [
    "## Plotting <3"
   ]
  },
  {
   "cell_type": "code",
   "execution_count": 5,
   "metadata": {},
   "outputs": [
    {
     "data": {
      "image/png": "[encoded data removed]",
      "text/plain": [
       "<Figure size 800x600 with 2 Axes>"
      ]
     },
     "metadata": {},
     "output_type": "display_data"
    }
   ],
   "source": [
    "import numpy as np\n",
    "import matplotlib.pyplot as plt\n",
    "from matplotlib.colors import ListedColormap\n",
    "\n",
    "# Extracting Physical Fitness, Mindfullness against Is Healthy\n",
    "X_vis = df[[\"phy_fitness\", \"mindfulness\"]].values\n",
    "y_vis = df[\"is_healthy\"].values\n",
    "\n",
    "# Train SVM on selected features\n",
    "svm_vis_model = SVC(kernel=\"linear\", random_state=42)\n",
    "svm_vis_model.fit(X_vis, y_vis)\n",
    "\n",
    "# Create mesh grid\n",
    "x_min, x_max = X_vis[:, 0].min() - 1, X_vis[:, 0].max() + 1\n",
    "y_min, y_max = X_vis[:, 1].min() - 1, X_vis[:, 1].max() + 1\n",
    "xx, yy = np.meshgrid(np.linspace(x_min, x_max, 100), np.linspace(y_min, y_max, 100))\n",
    "\n",
    "# Predict for mesh grid\n",
    "Z = svm_vis_model.predict(np.c_[xx.ravel(), yy.ravel()])\n",
    "Z = Z.reshape(xx.shape)\n",
    "\n",
    "# Plotting the decision boundary\n",
    "plt.figure(figsize=(8, 6))\n",
    "plt.contourf(xx, yy, Z, alpha=0.3, cmap=ListedColormap([\"red\", \"green\"]))\n",
    "plt.scatter(X_vis[:, 0], X_vis[:, 1], c=y_vis, edgecolors=\"k\", cmap=ListedColormap([\"red\", \"green\"]))\n",
    "plt.xlabel(\"Physical Fitness\")\n",
    "plt.ylabel(\"Mindfulness\")\n",
    "plt.title(\"Decision Boundary of SVM Model\")\n",
    "plt.colorbar(label=\"Is Healthy (0 = Red, 1 = Green)\")\n",
    "plt.show()\n"
   ]
  },
  {
   "cell_type": "markdown",
   "metadata": {},
   "source": [
    "## Final Scores of the model"
   ]
  },
  {
   "cell_type": "code",
   "execution_count": 6,
   "metadata": {},
   "outputs": [
    {
     "name": "stdout",
     "output_type": "stream",
     "text": [
      "[[791  12]\n",
      " [  2 395]]\n",
      "              precision    recall  f1-score   support\n",
      "\n",
      "           0       1.00      0.99      0.99       803\n",
      "           1       0.97      0.99      0.98       397\n",
      "\n",
      "    accuracy                           0.99      1200\n",
      "   macro avg       0.98      0.99      0.99      1200\n",
      "weighted avg       0.99      0.99      0.99      1200\n",
      "\n",
      "0.999623577829989\n"
     ]
    }
   ],
   "source": [
    "from sklearn.metrics import confusion_matrix, classification_report, roc_curve, auc\n",
    "\n",
    "# Generating confusion matrix\n",
    "cm = confusion_matrix(y_test, svm_preds)\n",
    "\n",
    "# Generate reprt\n",
    "class_report = classification_report(y_test, svm_preds)\n",
    "\n",
    "# Compute ROC Curve and AUC Score\n",
    "fpr, tpr, _ = roc_curve(y_test, svm_model.decision_function(X_test))\n",
    "roc_auc = auc(fpr, tpr)\n",
    "\n",
    "print(cm)\n",
    "print(class_report)\n",
    "print(roc_auc)\n"
   ]
  },
  {
   "cell_type": "markdown",
   "metadata": {},
   "source": [
    "This shows that 791 of the Unhealthy are properly classified\n",
    "\n",
    "And shows that 395 of the Healthy are properly classified\n",
    "\n",
    "And shows that 12 of the Unhealthy wrongly classified\n",
    "\n",
    "And shows that 2 of the Unhealthy are wrongly classified\n",
    "\n",
    "## Which translates to around 98.83% Accuracy :)"
   ]
  },
  {
   "cell_type": "markdown",
   "metadata": {},
   "source": [
    "## Saving model"
   ]
  },
  {
   "cell_type": "code",
   "execution_count": 7,
   "metadata": {},
   "outputs": [
    {
     "name": "stdout",
     "output_type": "stream",
     "text": [
      "./health_prediction_svm_model.pkl\n",
      "./label_encoders.pkl\n"
     ]
    }
   ],
   "source": [
    "import joblib\n",
    "\n",
    "model_path = \"./health_prediction_svm_model.pkl\"\n",
    "joblib.dump(svm_model, model_path)\n",
    "\n",
    "encoders_path = \"./label_encoders.pkl\"\n",
    "joblib.dump(label_encoders, encoders_path)\n",
    "\n",
    "print(model_path)\n",
    "print(encoders_path)\n"
   ]
  },
  {
   "cell_type": "markdown",
   "metadata": {},
   "source": [
    "## Test the model, Fake data time"
   ]
  },
  {
   "cell_type": "code",
   "execution_count": 8,
   "metadata": {},
   "outputs": [
    {
     "name": "stdout",
     "output_type": "stream",
     "text": [
      "Predicted Health Status: Not Healthy\n"
     ]
    }
   ],
   "source": [
    "import joblib\n",
    "import pandas as pd\n",
    "\n",
    "# Loading model and encoder\n",
    "model = joblib.load(\"health_prediction_svm_model.pkl\")\n",
    "label_encoders = joblib.load(\"label_encoders.pkl\")\n",
    "\n",
    "# Input fake data hehe\n",
    "new_data = pd.DataFrame([{\n",
    "    \"phy_fitness\": 6,\n",
    "    \"diet_pref\": \"Vegetarian\",\n",
    "    \"act_level\": \"Active\",\n",
    "    \"sleep_hrs\": 7,\n",
    "    \"mindfulness\": 8,\n",
    "    \"career\": \"Engineer\",\n",
    "    \"gender\": 1,\n",
    "    \"daily_avg_steps\": 8000,\n",
    "    \"daily_avg_calories\": 2200\n",
    "}])\n",
    "\n",
    "# Encode variables\n",
    "for col in [\"diet_pref\", \"act_level\", \"career\"]:\n",
    "    new_data[col] = label_encoders[col].transform(new_data[col])\n",
    "\n",
    "# Make prediction\n",
    "prediction = model.predict(new_data)\n",
    "print(\"Predicted Health Status:\", \"Healthy\" if prediction[0] == 1 else \"Not Healthy\")\n"
   ]
  },
  {
   "cell_type": "markdown",
   "metadata": {},
   "source": [
    "Hence proved Vegeterian Engineers arent healthy :)"
   ]
  }
 ],
 "metadata": {
  "kernelspec": {
   "display_name": "base",
   "language": "python",
   "name": "python3"
  },
  "language_info": {
   "codemirror_mode": {
    "name": "ipython",
    "version": 3
   },
   "file_extension": ".py",
   "mimetype": "text/x-python",
   "name": "python",
   "nbconvert_exporter": "python",
   "pygments_lexer": "ipython3",
   "version": "3.12.7"
  }
 },
 "nbformat": 4,
 "nbformat_minor": 2
}
